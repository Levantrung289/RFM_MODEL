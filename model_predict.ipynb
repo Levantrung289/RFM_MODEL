{
 "cells": [
  {
   "cell_type": "code",
   "execution_count": 123,
   "id": "945699a7",
   "metadata": {},
   "outputs": [],
   "source": [
    "#import library\n",
    "\n",
    "import pandas as pd\n",
    "import pyodbc\n",
    "import sklearn\n",
    "from sklearn.preprocessing import StandardScaler\n"
   ]
  },
  {
   "cell_type": "code",
   "execution_count": 124,
   "id": "03fa94fb",
   "metadata": {},
   "outputs": [],
   "source": [
    "#connect to sql server and get data\n",
    "server= 'LAPTOP-RAE61A0J\\SQLEXPRESS'\n",
    "db1 = 'DATABASERFM'\n",
    "uname = 'lvtrung289'\n",
    "pword = 'lvtrung289'\n",
    "conn = pyodbc.connect(driver='{SQL Server Native Client 11.0}', \n",
    "                      host=server, database=db1, trusted_connection='yes',\n",
    "                      user=uname, password=pword)\n",
    "cursor = conn.cursor()\n",
    "\n",
    "data = pd.read_sql_query('select * from rfm_group', conn)\n",
    "\n",
    "conn.close()"
   ]
  },
  {
   "cell_type": "code",
   "execution_count": 125,
   "id": "179bc8aa",
   "metadata": {},
   "outputs": [
    {
     "data": {
      "text/html": [
       "<div>\n",
       "<style scoped>\n",
       "    .dataframe tbody tr th:only-of-type {\n",
       "        vertical-align: middle;\n",
       "    }\n",
       "\n",
       "    .dataframe tbody tr th {\n",
       "        vertical-align: top;\n",
       "    }\n",
       "\n",
       "    .dataframe thead th {\n",
       "        text-align: right;\n",
       "    }\n",
       "</style>\n",
       "<table border=\"1\" class=\"dataframe\">\n",
       "  <thead>\n",
       "    <tr style=\"text-align: right;\">\n",
       "      <th></th>\n",
       "      <th>customer_id</th>\n",
       "      <th>last_active</th>\n",
       "      <th>Recency</th>\n",
       "      <th>Frequency</th>\n",
       "      <th>Monetary</th>\n",
       "      <th>frequency_rank</th>\n",
       "      <th>monetary_rank</th>\n",
       "      <th>recency_segment</th>\n",
       "      <th>frequency_segment</th>\n",
       "      <th>monetary_segment</th>\n",
       "      <th>rfm_segment</th>\n",
       "      <th>rfm_group</th>\n",
       "    </tr>\n",
       "  </thead>\n",
       "  <tbody>\n",
       "    <tr>\n",
       "      <th>0</th>\n",
       "      <td>16738</td>\n",
       "      <td>2022-04-19 09:46:00</td>\n",
       "      <td>305</td>\n",
       "      <td>1</td>\n",
       "      <td>3.0</td>\n",
       "      <td>0.0</td>\n",
       "      <td>0.0</td>\n",
       "      <td>1</td>\n",
       "      <td>1</td>\n",
       "      <td>1</td>\n",
       "      <td>111</td>\n",
       "      <td>Lost</td>\n",
       "    </tr>\n",
       "    <tr>\n",
       "      <th>1</th>\n",
       "      <td>16878</td>\n",
       "      <td>2022-11-18 17:39:00</td>\n",
       "      <td>92</td>\n",
       "      <td>2</td>\n",
       "      <td>3.0</td>\n",
       "      <td>0.0</td>\n",
       "      <td>0.0</td>\n",
       "      <td>2</td>\n",
       "      <td>1</td>\n",
       "      <td>1</td>\n",
       "      <td>211</td>\n",
       "      <td>About To Sleep</td>\n",
       "    </tr>\n",
       "    <tr>\n",
       "      <th>2</th>\n",
       "      <td>14792</td>\n",
       "      <td>2022-09-11 09:19:00</td>\n",
       "      <td>160</td>\n",
       "      <td>2</td>\n",
       "      <td>5.0</td>\n",
       "      <td>0.0</td>\n",
       "      <td>0.0</td>\n",
       "      <td>2</td>\n",
       "      <td>1</td>\n",
       "      <td>1</td>\n",
       "      <td>211</td>\n",
       "      <td>About To Sleep</td>\n",
       "    </tr>\n",
       "    <tr>\n",
       "      <th>3</th>\n",
       "      <td>16454</td>\n",
       "      <td>2022-12-28 11:40:00</td>\n",
       "      <td>52</td>\n",
       "      <td>2</td>\n",
       "      <td>5.0</td>\n",
       "      <td>0.0</td>\n",
       "      <td>0.0</td>\n",
       "      <td>3</td>\n",
       "      <td>1</td>\n",
       "      <td>1</td>\n",
       "      <td>311</td>\n",
       "      <td>Recent Customers</td>\n",
       "    </tr>\n",
       "    <tr>\n",
       "      <th>4</th>\n",
       "      <td>14046</td>\n",
       "      <td>2022-05-02 14:48:00</td>\n",
       "      <td>292</td>\n",
       "      <td>1</td>\n",
       "      <td>6.0</td>\n",
       "      <td>0.0</td>\n",
       "      <td>0.0</td>\n",
       "      <td>1</td>\n",
       "      <td>1</td>\n",
       "      <td>1</td>\n",
       "      <td>111</td>\n",
       "      <td>Lost</td>\n",
       "    </tr>\n",
       "  </tbody>\n",
       "</table>\n",
       "</div>"
      ],
      "text/plain": [
       "  customer_id         last_active  Recency  Frequency  Monetary  \\\n",
       "0       16738 2022-04-19 09:46:00      305          1       3.0   \n",
       "1       16878 2022-11-18 17:39:00       92          2       3.0   \n",
       "2       14792 2022-09-11 09:19:00      160          2       5.0   \n",
       "3       16454 2022-12-28 11:40:00       52          2       5.0   \n",
       "4       14046 2022-05-02 14:48:00      292          1       6.0   \n",
       "\n",
       "   frequency_rank  monetary_rank  recency_segment  frequency_segment  \\\n",
       "0             0.0            0.0                1                  1   \n",
       "1             0.0            0.0                2                  1   \n",
       "2             0.0            0.0                2                  1   \n",
       "3             0.0            0.0                3                  1   \n",
       "4             0.0            0.0                1                  1   \n",
       "\n",
       "   monetary_segment rfm_segment         rfm_group  \n",
       "0                 1         111              Lost  \n",
       "1                 1         211    About To Sleep  \n",
       "2                 1         211    About To Sleep  \n",
       "3                 1         311  Recent Customers  \n",
       "4                 1         111              Lost  "
      ]
     },
     "execution_count": 125,
     "metadata": {},
     "output_type": "execute_result"
    }
   ],
   "source": [
    "data.head()"
   ]
  },
  {
   "cell_type": "code",
   "execution_count": 126,
   "id": "a6a29e94",
   "metadata": {},
   "outputs": [
    {
     "data": {
      "text/html": [
       "<div>\n",
       "<style scoped>\n",
       "    .dataframe tbody tr th:only-of-type {\n",
       "        vertical-align: middle;\n",
       "    }\n",
       "\n",
       "    .dataframe tbody tr th {\n",
       "        vertical-align: top;\n",
       "    }\n",
       "\n",
       "    .dataframe thead th {\n",
       "        text-align: right;\n",
       "    }\n",
       "</style>\n",
       "<table border=\"1\" class=\"dataframe\">\n",
       "  <thead>\n",
       "    <tr style=\"text-align: right;\">\n",
       "      <th></th>\n",
       "      <th>customer_id</th>\n",
       "      <th>Recency</th>\n",
       "      <th>Frequency</th>\n",
       "      <th>Monetary</th>\n",
       "      <th>rfm_group</th>\n",
       "    </tr>\n",
       "  </thead>\n",
       "  <tbody>\n",
       "    <tr>\n",
       "      <th>0</th>\n",
       "      <td>16738</td>\n",
       "      <td>305</td>\n",
       "      <td>1</td>\n",
       "      <td>3.0</td>\n",
       "      <td>Lost</td>\n",
       "    </tr>\n",
       "    <tr>\n",
       "      <th>1</th>\n",
       "      <td>16878</td>\n",
       "      <td>92</td>\n",
       "      <td>2</td>\n",
       "      <td>3.0</td>\n",
       "      <td>About To Sleep</td>\n",
       "    </tr>\n",
       "    <tr>\n",
       "      <th>2</th>\n",
       "      <td>14792</td>\n",
       "      <td>160</td>\n",
       "      <td>2</td>\n",
       "      <td>5.0</td>\n",
       "      <td>About To Sleep</td>\n",
       "    </tr>\n",
       "    <tr>\n",
       "      <th>3</th>\n",
       "      <td>16454</td>\n",
       "      <td>52</td>\n",
       "      <td>2</td>\n",
       "      <td>5.0</td>\n",
       "      <td>Recent Customers</td>\n",
       "    </tr>\n",
       "    <tr>\n",
       "      <th>4</th>\n",
       "      <td>14046</td>\n",
       "      <td>292</td>\n",
       "      <td>1</td>\n",
       "      <td>6.0</td>\n",
       "      <td>Lost</td>\n",
       "    </tr>\n",
       "  </tbody>\n",
       "</table>\n",
       "</div>"
      ],
      "text/plain": [
       "  customer_id  Recency  Frequency  Monetary         rfm_group\n",
       "0       16738      305          1       3.0              Lost\n",
       "1       16878       92          2       3.0    About To Sleep\n",
       "2       14792      160          2       5.0    About To Sleep\n",
       "3       16454       52          2       5.0  Recent Customers\n",
       "4       14046      292          1       6.0              Lost"
      ]
     },
     "execution_count": 126,
     "metadata": {},
     "output_type": "execute_result"
    }
   ],
   "source": [
    "df = data[['customer_id','Recency','Frequency','Monetary','rfm_group']]\n",
    "df.head()"
   ]
  },
  {
   "cell_type": "code",
   "execution_count": 127,
   "id": "a95abbc9",
   "metadata": {},
   "outputs": [
    {
     "name": "stderr",
     "output_type": "stream",
     "text": [
      "<ipython-input-127-48fd7a5aa5be>:7: SettingWithCopyWarning: \n",
      "A value is trying to be set on a copy of a slice from a DataFrame.\n",
      "Try using .loc[row_indexer,col_indexer] = value instead\n",
      "\n",
      "See the caveats in the documentation: https://pandas.pydata.org/pandas-docs/stable/user_guide/indexing.html#returning-a-view-versus-a-copy\n",
      "  df['label'] = label_encoder.transform(df['rfm_group'])\n"
     ]
    }
   ],
   "source": [
    "#encode label from string to number\n",
    "from sklearn import preprocessing\n",
    "\n",
    "label_encoder = preprocessing.LabelEncoder()\n",
    "label_encoder.fit(df['rfm_group'])\n",
    "\n",
    "df['label'] = label_encoder.transform(df['rfm_group'])"
   ]
  },
  {
   "cell_type": "code",
   "execution_count": 128,
   "id": "543ca06e",
   "metadata": {},
   "outputs": [
    {
     "data": {
      "text/plain": [
       "['About To Sleep',\n",
       " 'At Risk',\n",
       " 'Can’t Lose Them',\n",
       " 'Champions',\n",
       " 'Customers Needing Attentions',\n",
       " 'Hibernating',\n",
       " 'Lost',\n",
       " 'Loyal Customers',\n",
       " 'Potential Loyalist',\n",
       " 'Promising',\n",
       " 'Recent Customers']"
      ]
     },
     "execution_count": 128,
     "metadata": {},
     "output_type": "execute_result"
    }
   ],
   "source": [
    "dic = list(label_encoder.classes_)\n",
    "dic"
   ]
  },
  {
   "cell_type": "code",
   "execution_count": 129,
   "id": "c303dfc8",
   "metadata": {},
   "outputs": [
    {
     "data": {
      "text/plain": [
       "array([ 0,  1,  2,  3,  4,  5,  6,  7,  8,  9, 10])"
      ]
     },
     "execution_count": 129,
     "metadata": {},
     "output_type": "execute_result"
    }
   ],
   "source": [
    "label_encoder.transform(list(label_encoder.classes_))"
   ]
  },
  {
   "cell_type": "code",
   "execution_count": 130,
   "id": "d46b4d87",
   "metadata": {},
   "outputs": [
    {
     "data": {
      "text/html": [
       "<div>\n",
       "<style scoped>\n",
       "    .dataframe tbody tr th:only-of-type {\n",
       "        vertical-align: middle;\n",
       "    }\n",
       "\n",
       "    .dataframe tbody tr th {\n",
       "        vertical-align: top;\n",
       "    }\n",
       "\n",
       "    .dataframe thead th {\n",
       "        text-align: right;\n",
       "    }\n",
       "</style>\n",
       "<table border=\"1\" class=\"dataframe\">\n",
       "  <thead>\n",
       "    <tr style=\"text-align: right;\">\n",
       "      <th></th>\n",
       "      <th>customer_id</th>\n",
       "      <th>Recency</th>\n",
       "      <th>Frequency</th>\n",
       "      <th>Monetary</th>\n",
       "      <th>rfm_group</th>\n",
       "      <th>label</th>\n",
       "    </tr>\n",
       "  </thead>\n",
       "  <tbody>\n",
       "    <tr>\n",
       "      <th>0</th>\n",
       "      <td>16738</td>\n",
       "      <td>305</td>\n",
       "      <td>1</td>\n",
       "      <td>3.0</td>\n",
       "      <td>Lost</td>\n",
       "      <td>6</td>\n",
       "    </tr>\n",
       "    <tr>\n",
       "      <th>1</th>\n",
       "      <td>16878</td>\n",
       "      <td>92</td>\n",
       "      <td>2</td>\n",
       "      <td>3.0</td>\n",
       "      <td>About To Sleep</td>\n",
       "      <td>0</td>\n",
       "    </tr>\n",
       "    <tr>\n",
       "      <th>2</th>\n",
       "      <td>14792</td>\n",
       "      <td>160</td>\n",
       "      <td>2</td>\n",
       "      <td>5.0</td>\n",
       "      <td>About To Sleep</td>\n",
       "      <td>0</td>\n",
       "    </tr>\n",
       "    <tr>\n",
       "      <th>3</th>\n",
       "      <td>16454</td>\n",
       "      <td>52</td>\n",
       "      <td>2</td>\n",
       "      <td>5.0</td>\n",
       "      <td>Recent Customers</td>\n",
       "      <td>10</td>\n",
       "    </tr>\n",
       "    <tr>\n",
       "      <th>4</th>\n",
       "      <td>14046</td>\n",
       "      <td>292</td>\n",
       "      <td>1</td>\n",
       "      <td>6.0</td>\n",
       "      <td>Lost</td>\n",
       "      <td>6</td>\n",
       "    </tr>\n",
       "  </tbody>\n",
       "</table>\n",
       "</div>"
      ],
      "text/plain": [
       "  customer_id  Recency  Frequency  Monetary         rfm_group  label\n",
       "0       16738      305          1       3.0              Lost      6\n",
       "1       16878       92          2       3.0    About To Sleep      0\n",
       "2       14792      160          2       5.0    About To Sleep      0\n",
       "3       16454       52          2       5.0  Recent Customers     10\n",
       "4       14046      292          1       6.0              Lost      6"
      ]
     },
     "execution_count": 130,
     "metadata": {},
     "output_type": "execute_result"
    }
   ],
   "source": [
    "df.head()"
   ]
  },
  {
   "cell_type": "code",
   "execution_count": 131,
   "id": "7bc634bf",
   "metadata": {},
   "outputs": [],
   "source": [
    "X = df[['Recency','Frequency','Monetary']].values\n",
    "y = df['label'].values"
   ]
  },
  {
   "cell_type": "code",
   "execution_count": 132,
   "id": "b4d10479",
   "metadata": {},
   "outputs": [
    {
     "data": {
      "text/plain": [
       "array([[ 1.66931714e+00, -5.37390780e-02, -6.99011146e-02],\n",
       "       [-1.79394283e-01, -5.31901207e-02, -6.99011146e-02],\n",
       "       [ 4.10804670e-01, -5.31901207e-02, -6.98204136e-02],\n",
       "       ...,\n",
       "       [-8.91104784e-01,  1.19731425e-01,  6.72221549e+00],\n",
       "       [-8.12990217e-01,  1.79018812e-01,  8.96796214e+00],\n",
       "       [-9.17142973e-01,  6.20783447e+01,  6.03452272e+01]])"
      ]
     },
     "execution_count": 132,
     "metadata": {},
     "output_type": "execute_result"
    }
   ],
   "source": [
    "#scaler data by standard\n",
    "std = StandardScaler()\n",
    "std.fit(X)\n",
    "X = std.transform(X)\n",
    "X"
   ]
  },
  {
   "cell_type": "code",
   "execution_count": 133,
   "id": "7cbf280b",
   "metadata": {},
   "outputs": [
    {
     "name": "stdout",
     "output_type": "stream",
     "text": [
      "size of dataset train and test:  (3304,) (584,)\n"
     ]
    }
   ],
   "source": [
    "#create train and test split\n",
    "from sklearn.model_selection import train_test_split\n",
    "X_train, X_test, y_train,y_test = train_test_split(X,y, test_size = 0.15, random_state = 1)\n",
    "\n",
    "print('size of dataset train and test: ', y_train.shape, y_test.shape)"
   ]
  },
  {
   "cell_type": "code",
   "execution_count": 134,
   "id": "17384f37",
   "metadata": {},
   "outputs": [
    {
     "data": {
      "text/plain": [
       "GradientBoostingClassifier(learning_rate=1.0, max_depth=1, random_state=0)"
      ]
     },
     "execution_count": 134,
     "metadata": {},
     "output_type": "execute_result"
    }
   ],
   "source": [
    "#train model with GradientBoosting\n",
    "from sklearn.ensemble import GradientBoostingClassifier\n",
    "xgb =GradientBoostingClassifier(n_estimators=100, learning_rate=1.0, max_depth=1, random_state=0)\n",
    "xgb.fit(X_train,y_train)"
   ]
  },
  {
   "cell_type": "code",
   "execution_count": 135,
   "id": "5814610d",
   "metadata": {},
   "outputs": [
    {
     "data": {
      "text/plain": [
       "0.9571917808219178"
      ]
     },
     "execution_count": 135,
     "metadata": {},
     "output_type": "execute_result"
    }
   ],
   "source": [
    "xgb.score(X_test,y_test)"
   ]
  },
  {
   "cell_type": "code",
   "execution_count": 136,
   "id": "3c69aa0d",
   "metadata": {},
   "outputs": [],
   "source": [
    "#predictive function\n",
    "def predict_customer(Recency, Frequency, Monetary):\n",
    "    \n",
    "    label = xgb.predict(std.transform([[Recency,Frequency,Monetary]]))\n",
    "    label = dic[label[0]]\n",
    "    return label"
   ]
  },
  {
   "cell_type": "code",
   "execution_count": 137,
   "id": "7935e77b",
   "metadata": {},
   "outputs": [
    {
     "name": "stdout",
     "output_type": "stream",
     "text": [
      "Lost\n"
     ]
    }
   ],
   "source": [
    "print(predict_customer(305,1,3))"
   ]
  },
  {
   "cell_type": "code",
   "execution_count": 138,
   "id": "34e7b17b",
   "metadata": {},
   "outputs": [
    {
     "name": "stdout",
     "output_type": "stream",
     "text": [
      "Recent Customers\n"
     ]
    }
   ],
   "source": [
    "print(predict_customer(50,2,5))"
   ]
  },
  {
   "cell_type": "code",
   "execution_count": 139,
   "id": "28974738",
   "metadata": {},
   "outputs": [
    {
     "name": "stdout",
     "output_type": "stream",
     "text": [
      "Customers Needing Attentions\n"
     ]
    }
   ],
   "source": [
    "print(predict_customer(90,150,1700))"
   ]
  },
  {
   "cell_type": "code",
   "execution_count": 140,
   "id": "95b83bb6",
   "metadata": {},
   "outputs": [
    {
     "name": "stdout",
     "output_type": "stream",
     "text": [
      "Loyal Customers\n"
     ]
    }
   ],
   "source": [
    "print(predict_customer(1,5,17000))"
   ]
  },
  {
   "cell_type": "code",
   "execution_count": 141,
   "id": "1c60da36",
   "metadata": {},
   "outputs": [
    {
     "name": "stdout",
     "output_type": "stream",
     "text": [
      "Loyal Customers\n"
     ]
    }
   ],
   "source": [
    "print(predict_customer(10,395,9000))"
   ]
  },
  {
   "cell_type": "code",
   "execution_count": 142,
   "id": "1811d142",
   "metadata": {},
   "outputs": [
    {
     "name": "stdout",
     "output_type": "stream",
     "text": [
      "Champions\n"
     ]
    }
   ],
   "source": [
    "print(predict_customer(20,339,1736))"
   ]
  }
 ],
 "metadata": {
  "kernelspec": {
   "display_name": "Python 3",
   "language": "python",
   "name": "python3"
  },
  "language_info": {
   "codemirror_mode": {
    "name": "ipython",
    "version": 3
   },
   "file_extension": ".py",
   "mimetype": "text/x-python",
   "name": "python",
   "nbconvert_exporter": "python",
   "pygments_lexer": "ipython3",
   "version": "3.8.8"
  }
 },
 "nbformat": 4,
 "nbformat_minor": 5
}
